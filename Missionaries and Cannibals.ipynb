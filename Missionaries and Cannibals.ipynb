{
 "cells": [
  {
   "cell_type": "code",
   "execution_count": 17,
   "id": "0adde8af",
   "metadata": {
    "scrolled": false
   },
   "outputs": [
    {
     "name": "stdout",
     "output_type": "stream",
     "text": [
      "M= 0 C= 0 |-----B| M= 3 C= 3\n",
      "No of missionaries : 1\n",
      "No of cannibals : 1\n",
      "M= 1 C= 1 |B-----| M= 2 C= 2\n",
      "No of missionaries : 1\n",
      "No of cannibals : 0\n",
      "M= 0 C= 1 |-----B| M= 3 C= 2\n",
      "No of missionaries : 1\n",
      "No of cannibals : 1\n",
      "M= 1 C= 2 |B-----| M= 2 C= 1\n",
      "You Lost!\n"
     ]
    }
   ],
   "source": [
    "boat_side = 'Right'\n",
    "missionaries_on_right = 3\n",
    "cannibals_on_right = 3 \n",
    "missionaries_on_left = 0\n",
    "cannibals_on_left = 0 \n",
    "\n",
    "print('M=',missionaries_on_left, 'C=',cannibals_on_left, '|-----B|', 'M=',missionaries_on_right,'C=',cannibals_on_right)\n",
    "\n",
    "while True:\n",
    "\n",
    "    missionaries = int(input('No of missionaries : '))\n",
    "    cannibals = int(input('No of cannibals : '))\n",
    "\n",
    "    if (missionaries + cannibals) != 1 and (missionaries + cannibals) != 2:\n",
    "        print('Invalid Move')\n",
    "        continue\n",
    "\n",
    "\n",
    "    if boat_side == 'Right':\n",
    "        if missionaries_on_right < missionaries or cannibals_on_right < cannibals :\n",
    "            print('Invalid Move')\n",
    "\n",
    "        missionaries_on_right = missionaries_on_right - missionaries\n",
    "        cannibals_on_right = cannibals_on_right - cannibals\n",
    "\n",
    "        missionaries_on_left += missionaries\n",
    "        cannibals_on_left += cannibals\n",
    "        \n",
    "        print('M=' ,missionaries_on_left, 'C=',cannibals_on_left, '|B-----|', 'M=',missionaries_on_right,'C=',cannibals_on_right)\n",
    "        \n",
    "        boat_side = 'Left'\n",
    "\n",
    "    else:\n",
    "        if missionaries_on_left < missionaries or cannibals_on_left < cannibals:\n",
    "            print('Invalid Move')\n",
    "            \n",
    "            \n",
    "        missionaries_on_left = missionaries_on_left - missionaries\n",
    "        cannibals_on_left = cannibals_on_left - cannibals\n",
    "\n",
    "        missionaries_on_right += missionaries\n",
    "        cannibals_on_right += cannibals\n",
    "        \n",
    "        print('M=',missionaries_on_left, 'C=',cannibals_on_left, '|-----B|', 'M=',missionaries_on_right,'C=',cannibals_on_right)\n",
    "        boat_side = 'Right'\n",
    "\n",
    "    if (missionaries_on_right < cannibals_on_right and missionaries_on_right > 0) or (missionaries_on_left < cannibals_on_left and missionaries_on_left > 0):\n",
    "        print('You Lost!')\n",
    "        break\n",
    "\n",
    "    if(missionaries_on_left == 3 and cannibals_on_left == 3):\n",
    "        print('You win!!!')\n",
    "        break"
   ]
  },
  {
   "cell_type": "code",
   "execution_count": null,
   "id": "61177c6a",
   "metadata": {},
   "outputs": [],
   "source": []
  }
 ],
 "metadata": {
  "kernelspec": {
   "display_name": "Python 3 (ipykernel)",
   "language": "python",
   "name": "python3"
  },
  "language_info": {
   "codemirror_mode": {
    "name": "ipython",
    "version": 3
   },
   "file_extension": ".py",
   "mimetype": "text/x-python",
   "name": "python",
   "nbconvert_exporter": "python",
   "pygments_lexer": "ipython3",
   "version": "3.11.5"
  }
 },
 "nbformat": 4,
 "nbformat_minor": 5
}
